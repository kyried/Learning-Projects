{
 "cells": [
  {
   "cell_type": "markdown",
   "id": "2d95699f-fc2d-44ec-ab83-c76cfeb7f06a",
   "metadata": {},
   "source": [
    "<h1>My Jupyter Notebook on IBM Watson Studio</h1>"
   ]
  },
  {
   "cell_type": "markdown",
   "id": "d4777655-0e0c-4793-b3e6-e97a0ca96186",
   "metadata": {},
   "source": [
    "**Kyle Riedmann**\n",
    "\n",
    "Biomedical Scientist"
   ]
  },
  {
   "cell_type": "markdown",
   "id": "6778f707-6912-499e-8ce6-e80ff9ecd9e3",
   "metadata": {},
   "source": [
    "*I am interested in data science to learn computational skills for large dataset analysis.*"
   ]
  },
  {
   "cell_type": "markdown",
   "id": "f4c0d315-8658-4411-8517-291aa0f857db",
   "metadata": {},
   "source": [
    "<h3>The cell below will multiply 6*2 numbers together and display the answer</h3>"
   ]
  },
  {
   "cell_type": "code",
   "execution_count": 2,
   "id": "fccfbdc1-d4a5-48c3-9fab-6396958f38eb",
   "metadata": {},
   "outputs": [
    {
     "name": "stdout",
     "output_type": "stream",
     "text": [
      "12\n"
     ]
    }
   ],
   "source": [
    "answer = 6*2\n",
    "print(answer)"
   ]
  },
  {
   "cell_type": "markdown",
   "id": "96a16ad3-c2c1-4b75-ab7b-e710564f40e9",
   "metadata": {},
   "source": [
    "~~This line to be deleted~~\n",
    "\n",
    "*Example of bulleted list\n",
    "\n",
    ">quoting is easy with blockquotes"
   ]
  }
 ],
 "metadata": {
  "kernelspec": {
   "display_name": "Python",
   "language": "python",
   "name": "conda-env-python-py"
  },
  "language_info": {
   "codemirror_mode": {
    "name": "ipython",
    "version": 3
   },
   "file_extension": ".py",
   "mimetype": "text/x-python",
   "name": "python",
   "nbconvert_exporter": "python",
   "pygments_lexer": "ipython3",
   "version": "3.7.12"
  }
 },
 "nbformat": 4,
 "nbformat_minor": 5
}
